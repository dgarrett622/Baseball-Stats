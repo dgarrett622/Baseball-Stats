{
 "cells": [
  {
   "cell_type": "markdown",
   "metadata": {},
   "source": [
    "# TS+: Unsupervised Old-School Advanced Batting Metric\n",
    "\n",
    "The triple slash line of AVG/OBP/SLG as seen on tv broadcasts and the backs of baseball cards gives a statistical overview of a batter's performance. These metrics are intended to measure a batter's skill in hitting (AVG), power (SLG), and batting eye (OBP). More modern, advanced metrics attempt to reduce this information into a single metric like wOBA or wRC+. The advanced metrics use a series of linear weights on number of hits, doubles, triples, home runs, walks, and more to scale the results to something familiar (OBP for wOBA or league average is 100 for wRC+). This got me thinking. If all I have available to me is the old school triple slash line for all batters in a season, can I construct a metric that performs similarly to wOBA by using unsupervised machine learning? This post is the result of that question.\n",
    "\n",
    "## Principal Component Analysis (PCA)\n",
    "\n",
    "PCA is an unsupervised machine learning technique often used to reduce the dimensionality of large, correlated datasets. PCA finds the directions of the largest variance in the dataset typically by eigenvalue-eigenvector decomposition of the covariance matrix or singular value decomposition on the original data matrix. The original data can then be transformed to the new coordinates in the directions of the largest variance (principal components). This is similar to rotating the x- and y-axes to better align with the data in a plot. The dimensionality can be reduced by using only the new coordinates which explain most of the variance of the original dataset. For this post, I want to use PCA on the three variables in the triple slash line, AVG/OBP/SLG, to reduce them down to a single metric which still explains most of the original variance.\n",
    "\n",
    "## Methodology\n",
    "\n",
    "The COVID-19 shortened 2020 season may not be representative of previous seasons, but I start my analysis there."
   ]
  }
 ],
 "metadata": {
  "kernelspec": {
   "display_name": "benv",
   "language": "python",
   "name": "benv"
  },
  "language_info": {
   "codemirror_mode": {
    "name": "ipython",
    "version": 3
   },
   "file_extension": ".py",
   "mimetype": "text/x-python",
   "name": "python",
   "nbconvert_exporter": "python",
   "pygments_lexer": "ipython3",
   "version": "3.8.6"
  }
 },
 "nbformat": 4,
 "nbformat_minor": 4
}
